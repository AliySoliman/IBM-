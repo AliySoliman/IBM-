{
 "cells": [
  {
   "cell_type": "markdown",
   "id": "3adb128d",
   "metadata": {},
   "source": [
    "## Data Science Tools and Ecosystem"
   ]
  },
  {
   "cell_type": "markdown",
   "id": "b2823ff8",
   "metadata": {},
   "source": [
    " In this notebook, Data Science Tools and Ecosystem are summarized."
   ]
  },
  {
   "cell_type": "markdown",
   "id": "917a53b1",
   "metadata": {},
   "source": [
    "Some of the popular languages that Data Scientists use are:\n",
    "\n",
    "1. Python\n",
    "2. R\n",
    "3. SQL"
   ]
  },
  {
   "cell_type": "markdown",
   "id": "aa543aa3",
   "metadata": {},
   "source": [
    "Some of the commonly used libraries used by Data Scientists include:\n",
    "\n",
    "1. pandas\n",
    "2. numpy\n",
    "3. matplotlib\n",
    "4. seaborn"
   ]
  },
  {
   "cell_type": "markdown",
   "id": "93b146b3",
   "metadata": {},
   "source": [
    "| Data Science Tools |\n",
    "|--------------------|\n",
    "| Jupyter Notebook   |\n",
    "| RStudio            |\n",
    "| VS Code            |"
   ]
  },
  {
   "cell_type": "markdown",
   "id": "ec5b72a9",
   "metadata": {},
   "source": [
    "# Below are a few examples of evaluating arithmetic expressions in Python"
   ]
  },
  {
   "cell_type": "code",
   "execution_count": 2,
   "id": "48f7e152",
   "metadata": {},
   "outputs": [
    {
     "name": "stdout",
     "output_type": "stream",
     "text": [
      "5 + 3 = 8\n"
     ]
    }
   ],
   "source": [
    "# Addition\n",
    "result = 5 + 3\n",
    "print(\"5 + 3 =\", result)  # Output: 5 + 3 = 8"
   ]
  },
  {
   "cell_type": "code",
   "execution_count": 3,
   "id": "a253fd92",
   "metadata": {},
   "outputs": [
    {
     "name": "stdout",
     "output_type": "stream",
     "text": [
      "10 - 4 = 6\n"
     ]
    }
   ],
   "source": [
    "# Subtraction\n",
    "result = 10 - 4\n",
    "print(\"10 - 4 =\", result)  # Output: 10 - 4 = 6"
   ]
  },
  {
   "cell_type": "code",
   "execution_count": 4,
   "id": "3c1d06da",
   "metadata": {},
   "outputs": [
    {
     "name": "stdout",
     "output_type": "stream",
     "text": [
      "7 * 2 = 14\n"
     ]
    }
   ],
   "source": [
    "# Multiplication\n",
    "result = 7 * 2\n",
    "print(\"7 * 2 =\", result)  # Output: 7 * 2 = 14"
   ]
  },
  {
   "cell_type": "code",
   "execution_count": 5,
   "id": "58974e10",
   "metadata": {},
   "outputs": [
    {
     "name": "stdout",
     "output_type": "stream",
     "text": [
      "20 / 5 = 4.0\n"
     ]
    }
   ],
   "source": [
    "# Division\n",
    "result = 20 / 5\n",
    "print(\"20 / 5 =\", result)  # Output: 20 / 5 = 4.0"
   ]
  },
  {
   "cell_type": "code",
   "execution_count": 6,
   "id": "93e2117c",
   "metadata": {},
   "outputs": [
    {
     "name": "stdout",
     "output_type": "stream",
     "text": [
      "2 ** 3 = 8\n"
     ]
    }
   ],
   "source": [
    "# Exponentiation\n",
    "result = 2 ** 3\n",
    "print(\"2 ** 3 =\", result)  # Output: 2 ** 3 = 8"
   ]
  },
  {
   "cell_type": "code",
   "execution_count": 7,
   "id": "22202706",
   "metadata": {},
   "outputs": [
    {
     "name": "stdout",
     "output_type": "stream",
     "text": [
      "10 % 3 = 1\n"
     ]
    }
   ],
   "source": [
    "# Modulus (Remainder)\n",
    "result = 10 % 3\n",
    "print(\"10 % 3 =\", result)  # Output: 10 % 3 = 1"
   ]
  },
  {
   "cell_type": "code",
   "execution_count": 8,
   "id": "62eac9db",
   "metadata": {},
   "outputs": [
    {
     "data": {
      "text/plain": [
       "17"
      ]
     },
     "execution_count": 8,
     "metadata": {},
     "output_type": "execute_result"
    }
   ],
   "source": [
    "# This a simple arithmetic expression to mutiply then add integers.\n",
    "(3*4)+5"
   ]
  },
  {
   "cell_type": "code",
   "execution_count": null,
   "id": "dd2965a1",
   "metadata": {},
   "outputs": [],
   "source": [
    "# his will convert 200 minutes to hours by diving by 60\n",
    "print"
   ]
  }
 ],
 "metadata": {
  "kernelspec": {
   "display_name": "Python 3 (ipykernel)",
   "language": "python",
   "name": "python3"
  },
  "language_info": {
   "codemirror_mode": {
    "name": "ipython",
    "version": 3
   },
   "file_extension": ".py",
   "mimetype": "text/x-python",
   "name": "python",
   "nbconvert_exporter": "python",
   "pygments_lexer": "ipython3",
   "version": "3.11.7"
  }
 },
 "nbformat": 4,
 "nbformat_minor": 5
}
